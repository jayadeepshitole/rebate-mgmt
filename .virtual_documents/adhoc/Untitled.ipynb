import pandas as pd


!python --version


pd.read_csv('../sa')


df



