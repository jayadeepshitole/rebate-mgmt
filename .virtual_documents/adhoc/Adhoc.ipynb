import pandas as pd


!python --version


pd.read_csv('sample_data/supplier_agreements.csv')



