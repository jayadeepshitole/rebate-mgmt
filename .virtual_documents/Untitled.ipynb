import pandas as pd


!python --version


df = pd.read_csv('sample_data/supplier_agreements.csv')


df



